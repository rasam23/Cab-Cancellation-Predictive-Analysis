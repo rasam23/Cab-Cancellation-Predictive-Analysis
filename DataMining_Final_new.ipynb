{
 "cells": [
  {
   "cell_type": "markdown",
   "metadata": {},
   "source": [
    "# YOURCABS Cancellation problem.\n",
    "\n",
    "- Team Members:\n",
    " - Aditya\n",
    " - Ajinkya\n",
    " - Nikita\n",
    " - Vidhya\n",
    "\n",
    "**The problem of interest is booking cancellations by the company due to unavailability of a car.**\n",
    "\n"
   ]
  },
  {
   "cell_type": "code",
   "execution_count": 1,
   "metadata": {
    "collapsed": true
   },
   "outputs": [],
   "source": [
    "#Essential imports\n",
    "#Pandas library helps to perform various functions on dataframe.\n",
    "import pandas as pd\n",
    "#Imported to handle dates and time.\n",
    "import datetime\n",
    "#Numpy Provides a fast numerical array structure and helper functions.\n",
    "import numpy as np\n",
    "#Will be used for Sampling the dataset.\n",
    "from sklearn.cross_validation import StratifiedShuffleSplit\n",
    "#Libraries used for graphs and plots\n",
    "%matplotlib inline\n",
    "import matplotlib.pyplot as plt\n",
    "import pylab as pl\n",
    "#Imports to implement various Algorithms.\n",
    "from sklearn.linear_model import LogisticRegression\n",
    "from sklearn.neighbors import KNeighborsClassifier\n",
    "from sklearn import metrics\n",
    "from sklearn import svm\n",
    "from sklearn.feature_selection import RFECV\n",
    "from sklearn.cross_validation import StratifiedKFold\n",
    "from sklearn.cross_validation import train_test_split\n",
    "\n",
    "#Classifier evaluation tools\n",
    "\n",
    "from sklearn.metrics import roc_auc_score\n",
    "from sklearn.metrics import confusion_matrix\n",
    "import itertools"
   ]
  },
  {
   "cell_type": "markdown",
   "metadata": {},
   "source": [
    "# Step 1: Data Pre - Processing."
   ]
  },
  {
   "cell_type": "code",
   "execution_count": 2,
   "metadata": {
    "collapsed": true
   },
   "outputs": [],
   "source": [
    "#Read the CSV datafile\n",
    "data = pd.read_csv('Kaggle_YourCabs_training.csv')"
   ]
  },
  {
   "cell_type": "code",
   "execution_count": 3,
   "metadata": {
    "collapsed": false
   },
   "outputs": [
    {
     "data": {
      "text/html": [
       "<div>\n",
       "<table border=\"1\" class=\"dataframe\">\n",
       "  <thead>\n",
       "    <tr style=\"text-align: right;\">\n",
       "      <th></th>\n",
       "      <th>id</th>\n",
       "      <th>user_id</th>\n",
       "      <th>vehicle_model_id</th>\n",
       "      <th>package_id</th>\n",
       "      <th>travel_type_id</th>\n",
       "      <th>from_area_id</th>\n",
       "      <th>to_area_id</th>\n",
       "      <th>from_city_id</th>\n",
       "      <th>to_city_id</th>\n",
       "      <th>from_date</th>\n",
       "      <th>to_date</th>\n",
       "      <th>online_booking</th>\n",
       "      <th>mobile_site_booking</th>\n",
       "      <th>booking_created</th>\n",
       "      <th>from_lat</th>\n",
       "      <th>from_long</th>\n",
       "      <th>to_lat</th>\n",
       "      <th>to_long</th>\n",
       "      <th>Car_Cancellation</th>\n",
       "      <th>Cost_of_error</th>\n",
       "    </tr>\n",
       "  </thead>\n",
       "  <tbody>\n",
       "    <tr>\n",
       "      <th>0</th>\n",
       "      <td>132512</td>\n",
       "      <td>22177</td>\n",
       "      <td>28</td>\n",
       "      <td>NaN</td>\n",
       "      <td>2</td>\n",
       "      <td>83.0</td>\n",
       "      <td>448.0</td>\n",
       "      <td>NaN</td>\n",
       "      <td>NaN</td>\n",
       "      <td>1/1/2013 2:00</td>\n",
       "      <td>NaN</td>\n",
       "      <td>0</td>\n",
       "      <td>0</td>\n",
       "      <td>1/1/2013 1:39</td>\n",
       "      <td>12.924150</td>\n",
       "      <td>77.672290</td>\n",
       "      <td>12.927320</td>\n",
       "      <td>77.635750</td>\n",
       "      <td>0</td>\n",
       "      <td>1.0</td>\n",
       "    </tr>\n",
       "    <tr>\n",
       "      <th>1</th>\n",
       "      <td>132513</td>\n",
       "      <td>21413</td>\n",
       "      <td>12</td>\n",
       "      <td>NaN</td>\n",
       "      <td>2</td>\n",
       "      <td>1010.0</td>\n",
       "      <td>540.0</td>\n",
       "      <td>NaN</td>\n",
       "      <td>NaN</td>\n",
       "      <td>1/1/2013 9:00</td>\n",
       "      <td>NaN</td>\n",
       "      <td>0</td>\n",
       "      <td>0</td>\n",
       "      <td>1/1/2013 2:25</td>\n",
       "      <td>12.966910</td>\n",
       "      <td>77.749350</td>\n",
       "      <td>12.927680</td>\n",
       "      <td>77.626640</td>\n",
       "      <td>0</td>\n",
       "      <td>1.0</td>\n",
       "    </tr>\n",
       "    <tr>\n",
       "      <th>2</th>\n",
       "      <td>132514</td>\n",
       "      <td>22178</td>\n",
       "      <td>12</td>\n",
       "      <td>NaN</td>\n",
       "      <td>2</td>\n",
       "      <td>1301.0</td>\n",
       "      <td>1034.0</td>\n",
       "      <td>NaN</td>\n",
       "      <td>NaN</td>\n",
       "      <td>1/1/2013 3:30</td>\n",
       "      <td>NaN</td>\n",
       "      <td>0</td>\n",
       "      <td>0</td>\n",
       "      <td>1/1/2013 3:08</td>\n",
       "      <td>12.937222</td>\n",
       "      <td>77.626915</td>\n",
       "      <td>13.047926</td>\n",
       "      <td>77.597766</td>\n",
       "      <td>0</td>\n",
       "      <td>1.0</td>\n",
       "    </tr>\n",
       "    <tr>\n",
       "      <th>3</th>\n",
       "      <td>132515</td>\n",
       "      <td>13034</td>\n",
       "      <td>12</td>\n",
       "      <td>NaN</td>\n",
       "      <td>2</td>\n",
       "      <td>768.0</td>\n",
       "      <td>398.0</td>\n",
       "      <td>NaN</td>\n",
       "      <td>NaN</td>\n",
       "      <td>1/1/2013 5:45</td>\n",
       "      <td>NaN</td>\n",
       "      <td>0</td>\n",
       "      <td>0</td>\n",
       "      <td>1/1/2013 4:39</td>\n",
       "      <td>12.989990</td>\n",
       "      <td>77.553320</td>\n",
       "      <td>12.971430</td>\n",
       "      <td>77.639140</td>\n",
       "      <td>0</td>\n",
       "      <td>1.0</td>\n",
       "    </tr>\n",
       "    <tr>\n",
       "      <th>4</th>\n",
       "      <td>132517</td>\n",
       "      <td>22180</td>\n",
       "      <td>12</td>\n",
       "      <td>NaN</td>\n",
       "      <td>2</td>\n",
       "      <td>1365.0</td>\n",
       "      <td>849.0</td>\n",
       "      <td>NaN</td>\n",
       "      <td>NaN</td>\n",
       "      <td>1/1/2013 9:00</td>\n",
       "      <td>NaN</td>\n",
       "      <td>0</td>\n",
       "      <td>0</td>\n",
       "      <td>1/1/2013 7:53</td>\n",
       "      <td>12.845653</td>\n",
       "      <td>77.677925</td>\n",
       "      <td>12.954340</td>\n",
       "      <td>77.600720</td>\n",
       "      <td>0</td>\n",
       "      <td>1.0</td>\n",
       "    </tr>\n",
       "  </tbody>\n",
       "</table>\n",
       "</div>"
      ],
      "text/plain": [
       "       id  user_id  vehicle_model_id  package_id  travel_type_id  \\\n",
       "0  132512    22177                28         NaN               2   \n",
       "1  132513    21413                12         NaN               2   \n",
       "2  132514    22178                12         NaN               2   \n",
       "3  132515    13034                12         NaN               2   \n",
       "4  132517    22180                12         NaN               2   \n",
       "\n",
       "   from_area_id  to_area_id  from_city_id  to_city_id      from_date  to_date  \\\n",
       "0          83.0       448.0           NaN         NaN  1/1/2013 2:00      NaN   \n",
       "1        1010.0       540.0           NaN         NaN  1/1/2013 9:00      NaN   \n",
       "2        1301.0      1034.0           NaN         NaN  1/1/2013 3:30      NaN   \n",
       "3         768.0       398.0           NaN         NaN  1/1/2013 5:45      NaN   \n",
       "4        1365.0       849.0           NaN         NaN  1/1/2013 9:00      NaN   \n",
       "\n",
       "   online_booking  mobile_site_booking booking_created   from_lat  from_long  \\\n",
       "0               0                    0   1/1/2013 1:39  12.924150  77.672290   \n",
       "1               0                    0   1/1/2013 2:25  12.966910  77.749350   \n",
       "2               0                    0   1/1/2013 3:08  12.937222  77.626915   \n",
       "3               0                    0   1/1/2013 4:39  12.989990  77.553320   \n",
       "4               0                    0   1/1/2013 7:53  12.845653  77.677925   \n",
       "\n",
       "      to_lat    to_long  Car_Cancellation  Cost_of_error  \n",
       "0  12.927320  77.635750                 0            1.0  \n",
       "1  12.927680  77.626640                 0            1.0  \n",
       "2  13.047926  77.597766                 0            1.0  \n",
       "3  12.971430  77.639140                 0            1.0  \n",
       "4  12.954340  77.600720                 0            1.0  "
      ]
     },
     "execution_count": 3,
     "metadata": {},
     "output_type": "execute_result"
    }
   ],
   "source": [
    "data.head()"
   ]
  },
  {
   "cell_type": "markdown",
   "metadata": {},
   "source": [
    "**Data fields**\n",
    "\n",
    "- id - booking ID\n",
    "- user_id - the ID of the customer (based on mobile number)\n",
    "- vehicle_model_id - vehicle model type.\n",
    "- package_id - type of package (1=4hrs & 40kms, 2=8hrs & 80kms, 3=6hrs & 60kms, 4= 10hrs & 100kms, 5=5hrs & 50kms, 6=3hrs & 30kms, 7=12hrs & 120kms)\n",
    "- travel_type_id - type of travel (1=long distance, 2= point to point, 3= hourly rental).\n",
    "- from_area_id - unique identifier of area. Applicable only for point-to-point travel and packages\n",
    "- to_area_id - unique identifier of area. Applicable only for point-to-point travel\n",
    "- from_city_id - unique identifier of city\n",
    "- to_city_id - unique identifier of city (only for intercity)\n",
    "- from_date - time stamp of requested trip start\n",
    "- to_date - time stamp of trip end\n",
    "- online_booking - if booking was done on desktop website\n",
    "- mobile_site_booking - if booking was done on mobile website\n",
    "- booking_created - time stamp of booking\n",
    "- from_lat - latitude of from area\n",
    "- from_long -  longitude of from area\n",
    "- to_lat - latitude of to area\n",
    "- to_long - longitude of to area\n",
    "- Car_Cancellation (available only in training data) - whether the booking was cancelled (1) or not (0) due to unavailability of a car.\n",
    "- Cost_of_error (available only in training data) - the cost incurred if the booking is misclassified. For an un-cancelled booking, the cost of misclassificaiton is 1. For a cancelled booking, the cost is a function of the cancellation time relative to the trip start time (see Evaluation Page)."
   ]
  },
  {
   "cell_type": "code",
   "execution_count": 4,
   "metadata": {
    "collapsed": false
   },
   "outputs": [],
   "source": [
    "#Generate new columns based on existing data to get better insights.\n",
    "data['Binned_pickup_month'] = pd.DatetimeIndex(data['from_date']).month\n",
    "\n",
    "data['Pickup_Day_of_Week'] = pd.DatetimeIndex(data['from_date']).weekday\n",
    "data['Pickup_Day_of_Week']=data['Pickup_Day_of_Week']+1\n",
    "\n",
    "data['Booking_day_of_the_Week'] = pd.DatetimeIndex(data['booking_created']).weekday\n",
    "data['Booking_day_of_the_Week'] = data['Booking_day_of_the_Week'].astype(int)\n",
    "data['Booking_day_of_the_Week']=data['Booking_day_of_the_Week']+1\n",
    "\n",
    "data['Binned_booking_month'] = pd.DatetimeIndex(data['booking_created']).month"
   ]
  },
  {
   "cell_type": "code",
   "execution_count": 5,
   "metadata": {
    "collapsed": false
   },
   "outputs": [],
   "source": [
    "data.from_date = pd.to_datetime(data['from_date'])\n",
    "data['pick_up_time_of_day']=pd.DatetimeIndex(data['from_date']).hour\n",
    "\n",
    "def pickup_printime(houroftheday):\n",
    "    if (houroftheday<4):\n",
    "        interval=1\n",
    "        return interval\n",
    "    elif (houroftheday<8):\n",
    "        interval=2\n",
    "        return interval\n",
    "    elif (houroftheday<12):\n",
    "        interval=3\n",
    "        return interval\n",
    "    elif (houroftheday<16):\n",
    "        interval=4\n",
    "        return interval\n",
    "    \n",
    "    elif (houroftheday<20):\n",
    "        interval=5\n",
    "        return interval\n",
    "    elif  houroftheday<=24:        \n",
    "        interval=6\n",
    "    return interval\n",
    "data['Binned_pickup_time_of_day']=list(map(pickup_printime,data['pick_up_time_of_day']))\n",
    "\n",
    "data['booking_time_of_day']=pd.DatetimeIndex(data['booking_created']).hour\n",
    "\n",
    "data['Binned_booking_time_of_day']=list(map(pickup_printime,data['booking_time_of_day']))\n",
    "\n",
    "data = data.drop('booking_time_of_day',1)\n",
    "\n",
    "data = data.drop('pick_up_time_of_day',1)"
   ]
  },
  {
   "cell_type": "code",
   "execution_count": 6,
   "metadata": {
    "collapsed": true
   },
   "outputs": [],
   "source": [
    "#Finding if booking within a day\n",
    "data['sub_month']=data['Binned_pickup_month']-data['Binned_booking_month']\n",
    "data['sub_day']=data['Pickup_Day_of_Week']-data['Booking_day_of_the_Week']\n",
    "data['Booking_Within_a_Day']=data['sub_month']+data['sub_day']\n",
    "#normalising\n",
    "def normalization(day):\n",
    "    if(day == 0):\n",
    "        return 0\n",
    "    else:\n",
    "        return 1\n",
    "data['Is_Booking_Within_a_Day'] = list(map(normalization,data['Booking_Within_a_Day']))\n",
    "data = data.drop('sub_month',1)\n",
    "data = data.drop('sub_day',1)\n",
    "data = data.drop('Booking_Within_a_Day',1)"
   ]
  },
  {
   "cell_type": "code",
   "execution_count": 7,
   "metadata": {
    "collapsed": false
   },
   "outputs": [
    {
     "data": {
      "text/plain": [
       "Index(['online_booking', 'mobile_site_booking', 'Car_Cancellation',\n",
       "       'Binned_pickup_month', 'Pickup_Day_of_Week', 'Booking_day_of_the_Week',\n",
       "       'Binned_booking_month', 'Binned_pickup_time_of_day',\n",
       "       'Binned_booking_time_of_day', 'Is_Booking_Within_a_Day'],\n",
       "      dtype='object')"
      ]
     },
     "execution_count": 7,
     "metadata": {},
     "output_type": "execute_result"
    }
   ],
   "source": [
    "data.columns.itemsize\n",
    "data = data.drop('id',1)\n",
    "data = data.drop('user_id',1)\n",
    "data = data.drop('vehicle_model_id',1)\n",
    "data = data.drop('package_id',1)\n",
    "data = data.drop('travel_type_id',1)\n",
    "data = data.drop('from_area_id',1)\n",
    "data = data.drop('to_area_id',1)\n",
    "data = data.drop('from_city_id',1)\n",
    "data = data.drop('to_city_id',1)\n",
    "data = data.drop('from_date',1)\n",
    "data = data.drop('from_lat',1)\n",
    "data = data.drop('from_long',1)\n",
    "data = data.drop('Cost_of_error',1)\n",
    "data = data.drop('to_date',1)\n",
    "data = data.drop('to_lat',1)\n",
    "data = data.drop('to_long',1)\n",
    "data = data.drop('booking_created',1)\n",
    "\n",
    "data.columns"
   ]
  },
  {
   "cell_type": "markdown",
   "metadata": {},
   "source": [
    "**New Data fields:**\n",
    "- Booking_Day_Of_The_Week - value = 1-7 for Sunday to Saturday\n",
    "- Pickup_Day_Of_The_Week - value = 1-7 for Sunday to Saturday\n",
    "- Binned_Booking_Time_Of_The_Day - value = 1(12am – 4am) and so on upto value = 6(8pm – 12am)\n",
    "- Binned_Pickup_Time_Of_Day - value = 1(12am – 4am) and so on upto value = 6(8pm – 12am)\n",
    "- Binned_Pickup_Month - value = 1 to 12 for January to December.\n",
    "- Binned_Booking_Month - value = 1 to 12 for January to December.\n",
    "- Is_Booking_Within_a_day - value\t=\t0\tif\tthe\tcab\tbooking\twas done\twithin\t24\thrs;value\t=\t1\tif\tthe\tcab\tbooking\twas\tdone\tbefore\t1\tday\tupto\ta\tmonth.\n",
    "- online_booking - Value\t=\t1\tif\tbooking\twas\tdone\ton\tdesktop\twebsite.\n",
    "- mobile_site_booking - Value\t=\t1\tif\tbooking\twas\tdone\ton\tmobile\twebsite"
   ]
  },
  {
   "cell_type": "markdown",
   "metadata": {},
   "source": [
    "# Step 2 : Feature Extraction"
   ]
  },
  {
   "cell_type": "code",
   "execution_count": 8,
   "metadata": {
    "collapsed": false
   },
   "outputs": [],
   "source": [
    "#Feature selection\n",
    "features = data[['online_booking', 'mobile_site_booking',\n",
    "       'Binned_pickup_month', 'Pickup_Day_of_Week', 'Booking_day_of_the_Week',\n",
    "       'Binned_booking_month', 'Is_Booking_Within_a_Day',\n",
    "       'Binned_pickup_time_of_day', 'Binned_booking_time_of_day']]"
   ]
  },
  {
   "cell_type": "code",
   "execution_count": 9,
   "metadata": {
    "collapsed": true
   },
   "outputs": [],
   "source": [
    "#Class label\n",
    "y = data.Car_Cancellation\n",
    "#Sampling - Stratfied: Test 30% & Train = 70%\n",
    "sss = StratifiedShuffleSplit(y, n_iter=2, test_size=0.3)"
   ]
  },
  {
   "cell_type": "code",
   "execution_count": 10,
   "metadata": {
    "collapsed": true
   },
   "outputs": [],
   "source": [
    "train_index, test_index = next(iter(sss))\n",
    "X_train = features.iloc[train_index]\n",
    "y_train = y.iloc[train_index]\n",
    "X_test = features.iloc[test_index]\n",
    "y_test = y.iloc[test_index]"
   ]
  },
  {
   "cell_type": "code",
   "execution_count": 11,
   "metadata": {
    "collapsed": false
   },
   "outputs": [
    {
     "data": {
      "text/plain": [
       "((30401, 9), (13030, 9))"
      ]
     },
     "execution_count": 11,
     "metadata": {},
     "output_type": "execute_result"
    }
   ],
   "source": [
    "X_train.shape, X_test.shape"
   ]
  },
  {
   "cell_type": "code",
   "execution_count": 12,
   "metadata": {
    "collapsed": true
   },
   "outputs": [],
   "source": [
    "## Take a sample from the training data to do feature selection\n",
    "sss = StratifiedShuffleSplit(y_train, n_iter=2, test_size=0.2)"
   ]
  },
  {
   "cell_type": "code",
   "execution_count": 13,
   "metadata": {
    "collapsed": false
   },
   "outputs": [
    {
     "name": "stdout",
     "output_type": "stream",
     "text": [
      "6081\n",
      "6081\n"
     ]
    }
   ],
   "source": [
    "#Generate indices\n",
    "train_index, test_index = next(iter(sss))\n",
    "#20% data is used for feature extraction\n",
    "X_train_features = X_train.iloc[test_index]\n",
    "y_train_features = y_train.iloc[test_index]\n",
    "\n",
    "#80% data is remaining\n",
    "X_train_rest = X_train.iloc[train_index]\n",
    "y_train_rest = y_train.iloc[train_index]\n",
    "print(len(X_train_features))\n",
    "print(len(y_train_features))"
   ]
  },
  {
   "cell_type": "code",
   "execution_count": 14,
   "metadata": {
    "collapsed": false
   },
   "outputs": [
    {
     "data": {
      "text/plain": [
       "((6081, 9), (24320, 9))"
      ]
     },
     "execution_count": 14,
     "metadata": {},
     "output_type": "execute_result"
    }
   ],
   "source": [
    "X_train_features.shape, X_train_rest.shape"
   ]
  },
  {
   "cell_type": "code",
   "execution_count": 57,
   "metadata": {
    "collapsed": false
   },
   "outputs": [
    {
     "data": {
      "text/plain": [
       "RFECV(cv=sklearn.cross_validation.StratifiedKFold(labels=[0 0 ..., 0 0], n_folds=5, shuffle=False, random_state=None),\n",
       "   estimator=SVC(C=1, cache_size=200, class_weight=None, coef0=0.0,\n",
       "  decision_function_shape=None, degree=3, gamma='auto', kernel='linear',\n",
       "  max_iter=-1, probability=False, random_state=None, shrinking=True,\n",
       "  tol=0.001, verbose=False),\n",
       "   estimator_params=None, scoring='roc_auc', step=1, verbose=0)"
      ]
     },
     "execution_count": 57,
     "metadata": {},
     "output_type": "execute_result"
    }
   ],
   "source": [
    "#Instantiate Support vector classifier\n",
    "svc = svm.SVC(kernel='linear', C=1)\n",
    "rfecv = RFECV(estimator=svc, step=1, cv=StratifiedKFold(y_train_features, 5), scoring='roc_auc')\n",
    "#Fitting regression model\n",
    "rfecv.fit(X_train_features, y_train_features)"
   ]
  },
  {
   "cell_type": "code",
   "execution_count": 35,
   "metadata": {
    "collapsed": false
   },
   "outputs": [
    {
     "name": "stdout",
     "output_type": "stream",
     "text": [
      "Optimal number of features : 7\n"
     ]
    }
   ],
   "source": [
    "print(\"Optimal number of features : %d\" % rfecv.n_features_)"
   ]
  },
  {
   "cell_type": "code",
   "execution_count": 36,
   "metadata": {
    "collapsed": false
   },
   "outputs": [
    {
     "data": {
      "image/png": "[encoded data removed]",
      "text/plain": [
       "<matplotlib.figure.Figure at 0x2bd52c98898>"
      ]
     },
     "metadata": {},
     "output_type": "display_data"
    }
   ],
   "source": [
    "# Plot number of features VS. cross-validation scores\n",
    "plt.figure()\n",
    "plt.xlabel(\"Number of features selected\")\n",
    "plt.ylabel(\"Cross validation score (nb of correct classifications)\")\n",
    "plt.plot(range(1, len(rfecv.grid_scores_) + 1), rfecv.grid_scores_)\n",
    "plt.show()"
   ]
  },
  {
   "cell_type": "code",
   "execution_count": 37,
   "metadata": {
    "collapsed": false
   },
   "outputs": [
    {
     "data": {
      "text/plain": [
       "array([ True,  True,  True, False,  True, False,  True,  True,  True], dtype=bool)"
      ]
     },
     "execution_count": 37,
     "metadata": {},
     "output_type": "execute_result"
    }
   ],
   "source": [
    "#Diplaying features which support desired class label.\n",
    "rfecv.support_"
   ]
  },
  {
   "cell_type": "code",
   "execution_count": 38,
   "metadata": {
    "collapsed": true
   },
   "outputs": [],
   "source": [
    "import numpy as np\n",
    "features_cols_np = np.array(features.columns)"
   ]
  },
  {
   "cell_type": "code",
   "execution_count": 39,
   "metadata": {
    "collapsed": true
   },
   "outputs": [],
   "source": [
    "#Extracting features\n",
    "features_to_consider = features_cols_np[rfecv.support_]"
   ]
  },
  {
   "cell_type": "code",
   "execution_count": 40,
   "metadata": {
    "collapsed": false
   },
   "outputs": [
    {
     "name": "stdout",
     "output_type": "stream",
     "text": [
      "Selected features are ['online_booking' 'mobile_site_booking' 'Binned_pickup_month'\n",
      " 'Booking_day_of_the_Week' 'Is_Booking_Within_a_Day'\n",
      " 'Binned_pickup_time_of_day' 'Binned_booking_time_of_day'] \n"
     ]
    }
   ],
   "source": [
    "print ('Selected features are %s ' %(features_to_consider))"
   ]
  },
  {
   "cell_type": "code",
   "execution_count": 41,
   "metadata": {
    "collapsed": true
   },
   "outputs": [],
   "source": [
    "#Diplaying eliminated feature\n",
    "features_eliminated = features_cols_np[rfecv.support_ == False]"
   ]
  },
  {
   "cell_type": "code",
   "execution_count": 42,
   "metadata": {
    "collapsed": false
   },
   "outputs": [
    {
     "data": {
      "text/plain": [
       "array(['Pickup_Day_of_Week', 'Binned_booking_month'], dtype=object)"
      ]
     },
     "execution_count": 42,
     "metadata": {},
     "output_type": "execute_result"
    }
   ],
   "source": [
    "features_eliminated"
   ]
  },
  {
   "cell_type": "markdown",
   "metadata": {},
   "source": [
    "# Step 3:  Model Training"
   ]
  },
  {
   "cell_type": "markdown",
   "metadata": {},
   "source": [
    "We have used KNN & SVM algorithm to train our predictive classification model."
   ]
  },
  {
   "cell_type": "code",
   "execution_count": 43,
   "metadata": {
    "collapsed": false
   },
   "outputs": [
    {
     "name": "stdout",
     "output_type": "stream",
     "text": [
      "24320\n",
      "24320\n"
     ]
    }
   ],
   "source": [
    "Xt = X_train_rest[features_to_consider]\n",
    "yt = y_train_rest\n",
    "print(len(Xt))\n",
    "print(len(yt))"
   ]
  },
  {
   "cell_type": "code",
   "execution_count": 44,
   "metadata": {
    "collapsed": true
   },
   "outputs": [],
   "source": [
    "Xtr, Xv, ytr, yv = train_test_split(Xt, yt, test_size=0.3)"
   ]
  },
  {
   "cell_type": "code",
   "execution_count": 45,
   "metadata": {
    "collapsed": true
   },
   "outputs": [],
   "source": [
    "#Create an array to store results of varios neighbors in KNN.\n",
    "results = []\n",
    "\n",
    "\n",
    "for n in range(1, 51, 2):\n",
    "    \n",
    "    knn = KNeighborsClassifier(weights='distance', n_neighbors=n)\n",
    "    #Train the model on the training data set.\n",
    "    knn.fit(Xt, yt)\n",
    "    #Predict class labels using our trained model to evaluate the perfomance.\n",
    "    p = knn.predict(Xv)\n",
    "    accuracy = metrics.accuracy_score(yv,p)\n",
    "    results.append([n, accuracy])"
   ]
  },
  {
   "cell_type": "code",
   "execution_count": 46,
   "metadata": {
    "collapsed": true
   },
   "outputs": [],
   "source": [
    "#Store the results into a dataframe\n",
    "results = pd.DataFrame(results, columns=[\"n\",\"accuracy\"])\n",
    "knn_accuracy = max(results.accuracy)"
   ]
  },
  {
   "cell_type": "code",
   "execution_count": 47,
   "metadata": {
    "collapsed": false
   },
   "outputs": [
    {
     "data": {
      "image/png": "[encoded data removed]",
      "text/plain": [
       "<matplotlib.figure.Figure at 0x2bd56f27358>"
      ]
     },
     "metadata": {},
     "output_type": "display_data"
    }
   ],
   "source": [
    "pl.plot(results.n,results.accuracy)\n",
    "pl.title(\"Accuracy with Increasing K\")\n",
    "pl.show()"
   ]
  },
  {
   "cell_type": "markdown",
   "metadata": {},
   "source": [
    "We can see from the plot that is the number of neighbors increase the accuracy increases initially. However, after a certain number of neighbors is reached the accuracy starts dropping. This is due to model overfitting."
   ]
  },
  {
   "cell_type": "code",
   "execution_count": 48,
   "metadata": {
    "collapsed": false
   },
   "outputs": [
    {
     "name": "stdout",
     "output_type": "stream",
     "text": [
      "Ideal value of neighbors would be 15.0\n"
     ]
    },
    {
     "name": "stderr",
     "output_type": "stream",
     "text": [
      "C:\\Users\\Ajinkya\\Anaconda3\\lib\\site-packages\\sklearn\\externals\\joblib\\parallel.py:72: VisibleDeprecationWarning: using a non-integer number instead of an integer will result in an error in the future\n",
      "  return [func(*args, **kwargs) for func, args, kwargs in self.items]\n"
     ]
    }
   ],
   "source": [
    "#Training KNN model for ideal value of Neighbors 'n'.\n",
    "ideal_n = results.loc[results['accuracy'].idxmax()].n\n",
    "print('Ideal value of neighbors would be', ideal_n)\n",
    "knn = KNeighborsClassifier(weights='distance', n_neighbors=ideal_n)\n",
    "knn.fit(Xt, yt)\n",
    "ytest_pred_knn = knn.predict_proba(Xv)[:, 1]\n",
    "ytest_preds_threshold = [1 if pred > 0.10 else 0 for pred in ytest_pred_knn]\n",
    "knn_auc_roc = roc_auc_score(yv, ytest_preds_threshold)"
   ]
  },
  {
   "cell_type": "code",
   "execution_count": 58,
   "metadata": {
    "collapsed": true
   },
   "outputs": [],
   "source": [
    "#Train the model\n",
    "SVC=svc.fit(Xt, yt)"
   ]
  },
  {
   "cell_type": "code",
   "execution_count": 59,
   "metadata": {
    "collapsed": true
   },
   "outputs": [],
   "source": [
    "svm_p = svc.predict(Xv)\n",
    "svm_accuracy = metrics.accuracy_score(yv,svm_p)\n",
    "svm_auc_roc = roc_auc_score(yv, svm_p)"
   ]
  },
  {
   "cell_type": "markdown",
   "metadata": {},
   "source": [
    "# Step 4: Model Evaluation"
   ]
  },
  {
   "cell_type": "code",
   "execution_count": 51,
   "metadata": {
    "collapsed": false
   },
   "outputs": [
    {
     "name": "stdout",
     "output_type": "stream",
     "text": [
      "ROC AUC score for KNN on the test dataset  0.901671498207\n"
     ]
    }
   ],
   "source": [
    "print ('ROC AUC score for KNN on the test dataset ', knn_auc_roc)"
   ]
  },
  {
   "cell_type": "code",
   "execution_count": 52,
   "metadata": {
    "collapsed": false
   },
   "outputs": [
    {
     "name": "stdout",
     "output_type": "stream",
     "text": [
      "ROC AUC score of SVM on the test dataset  0.5\n"
     ]
    }
   ],
   "source": [
    "print ('ROC AUC score of SVM on the test dataset ', svm_auc_roc)"
   ]
  },
  {
   "cell_type": "code",
   "execution_count": 53,
   "metadata": {
    "collapsed": false
   },
   "outputs": [
    {
     "name": "stdout",
     "output_type": "stream",
     "text": [
      "Accuracy of KNN model 0.943530701754\n"
     ]
    }
   ],
   "source": [
    "print('Accuracy of KNN model', knn_accuracy)"
   ]
  },
  {
   "cell_type": "code",
   "execution_count": 54,
   "metadata": {
    "collapsed": false
   },
   "outputs": [
    {
     "name": "stdout",
     "output_type": "stream",
     "text": [
      "Accuracy of SVM model 0.925712719298\n"
     ]
    }
   ],
   "source": [
    "print('Accuracy of SVM model', svm_accuracy)"
   ]
  },
  {
   "cell_type": "code",
   "execution_count": 62,
   "metadata": {
    "collapsed": false
   },
   "outputs": [
    {
     "name": "stdout",
     "output_type": "stream",
     "text": [
      "Normalized confusion matrix\n",
      "[[ 0.86  0.14]\n",
      " [ 0.06  0.94]]\n"
     ]
    },
    {
     "data": {
      "image/png": "[encoded data removed]",
      "text/plain": [
       "<matplotlib.figure.Figure at 0x2bd630aaac8>"
      ]
     },
     "metadata": {},
     "output_type": "display_data"
    }
   ],
   "source": [
    "#Define a function to calculate and plot confusion matrix\n",
    "def plot_confusion_matrix(cm, classes,\n",
    "                          normalize=False,\n",
    "                          title='Confusion matrix',\n",
    "                          cmap=plt.cm.Accent):\n",
    "    \"\"\"\n",
    "    This function prints and plots the confusion matrix.\n",
    "    Normalization can be applied by setting `normalize=True`.\n",
    "    \"\"\"\n",
    "    plt.imshow(cm, interpolation='nearest', cmap=cmap)\n",
    "    plt.title(title)\n",
    "    plt.colorbar()\n",
    "    tick_marks = np.arange(len(classes))\n",
    "    plt.xticks(tick_marks, classes, rotation=45)\n",
    "    plt.yticks(tick_marks, classes)\n",
    "\n",
    "    if normalize:\n",
    "        cm = cm.astype('float') / cm.sum(axis=1)[:, np.newaxis]\n",
    "        print(\"Normalized confusion matrix\")\n",
    "    else:\n",
    "        print('Confusion matrix, without normalization')\n",
    "\n",
    "    print(cm)\n",
    "\n",
    "    thresh = cm.max() / 2.\n",
    "    for i, j in itertools.product(range(cm.shape[0]), range(cm.shape[1])):\n",
    "        plt.text(j, i, cm[i, j],\n",
    "                 horizontalalignment=\"center\",\n",
    "                 color=\"white\" if cm[i, j] > thresh else \"black\")\n",
    "\n",
    "    plt.tight_layout()\n",
    "    plt.ylabel('True label')\n",
    "    plt.xlabel('Predicted label')\n",
    "\n",
    "# Compute confusion matrix\n",
    "cnf_matrix = confusion_matrix(yv, ytest_preds_threshold)\n",
    "np.set_printoptions(precision=2)\n",
    "\n",
    "# Plot non-normalized confusion matrix\n",
    "#plt.figure()\n",
    "#plot_confusion_matrix(cnf_matrix, classes=['Cancelled','Not Cancelled'],\n",
    "#                      title='Confusion matrix, without normalization')\n",
    "\n",
    "\n",
    "\n",
    "# Plot normalized confusion matrix\n",
    "plt.figure()\n",
    "plot_confusion_matrix(cnf_matrix, classes=['Cancelled','Not Cancelled'], normalize=True,\n",
    "                      title='Normalized confusion matrix')\n",
    "\n",
    "plt.show()"
   ]
  },
  {
   "cell_type": "code",
   "execution_count": null,
   "metadata": {
    "collapsed": true
   },
   "outputs": [],
   "source": []
  }
 ],
 "metadata": {
  "anaconda-cloud": {},
  "kernelspec": {
   "display_name": "Python [default]",
   "language": "python",
   "name": "python3"
  },
  "language_info": {
   "codemirror_mode": {
    "name": "ipython",
    "version": 3
   },
   "file_extension": ".py",
   "mimetype": "text/x-python",
   "name": "python",
   "nbconvert_exporter": "python",
   "pygments_lexer": "ipython3",
   "version": "3.5.2"
  }
 },
 "nbformat": 4,
 "nbformat_minor": 1
}
